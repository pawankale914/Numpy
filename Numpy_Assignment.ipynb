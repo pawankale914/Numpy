{
 "cells": [
  {
   "cell_type": "markdown",
   "id": "847938ee-99e2-46af-84ec-a0434db2dcbf",
   "metadata": {},
   "source": [
    "Theorotical Questions"
   ]
  },
  {
   "cell_type": "raw",
   "id": "55cdfc46-8a15-4df8-bfc4-556fcda43c78",
   "metadata": {},
   "source": [
    "Q1. Explain the purpose and advantages of NumPy in scientific computing and data analysis. How does itenhance Python's capabilities for numerical operations?\n",
    "Answer:-\n",
    "  NumPy is an indispensable tool for scientific computing, data analysis, and numerical computations in Python. Its ability to efficiently handle arrays, perform complex mathematical operations, and seamlessly integrate with other libraries solidifies its position as the cornerstone of numerical computing in Python.\n",
    "\n",
    " NumPy’s capability to handle extensive datasets, execute complex mathematical operations, and integrate with various scientific computing tools makes it an indispensable asset for researchers, data scientists, engineers, and analysts working on numerical computations and data analysis tasks.\n",
    "\n",
    "NumPy’s array operations, mathematical functions, memory efficiency, and interoperability make it a foundational library in the Python ecosystem, empowering users to explore, analyze, and derive insights from data seamlessly and efficiently."
   ]
  },
  {
   "cell_type": "raw",
   "id": "83206413-98f6-447f-8900-83e680abd6ea",
   "metadata": {},
   "source": [
    "Q2. Compare and contrast np.mean() and np.average() functions in NumPy. When would you use one over the other?\n",
    "Answer:-\n",
    "              np.mean()                                        np.average()\n",
    "\n",
    "1.  Use to calculate arithmetic mean                Use to calculate the arithmetic \n",
    "                                                    mean as well as weighted average.\n",
    "\n",
    "2.  All elements have equal weight                  All elements may or may not have \n",
    "                                                    equal weight.\n",
    "\n",
    "3.  Weight cannot be passed trough the              Weight can be passed through the \n",
    "    parameter of the given function.                parameter of the given function.   \n",
    "\n",
    "4.  Syntax :                                        Syntax :\n",
    "    np.mean(arr, axis = None)                       numpy.average(arr, axis = None, weights = None)\n",
    "    where ‘arr’ is the given array.                 Where ‘arr’ is the given array\n"
   ]
  },
  {
   "cell_type": "raw",
   "id": "dabe5177-750b-4f18-9645-7a7f7c095f1c",
   "metadata": {},
   "source": [
    "Q3. Describe the methods for reversing a NumPy array along different axes. Provide examples for 1D and 2D arrays.\n",
    "Answer:-\n",
    " As we know Numpy is a general-purpose array-processing package that provides a high-performance multidimensional array object, and tools for working with these arrays. Let’s discuss how can we reverse a Numpy array. \n",
    "\n",
    "1.Using flip() function to Reverse a Numpy array\n",
    "The numpy.flip() function reverses the order of array elements along the specified axis, preserving the shape of the array."
   ]
  },
  {
   "cell_type": "code",
   "execution_count": 3,
   "id": "ea0ba244-6145-4a73-b732-e3c7e4b5313d",
   "metadata": {},
   "outputs": [
    {
     "name": "stdout",
     "output_type": "stream",
     "text": [
      "final array [5 4 6 3 2 1]\n"
     ]
    }
   ],
   "source": [
    "import numpy as np\n",
    "\n",
    "ini_array = np.array([1, 2, 3, 6, 4, 5])\n",
    "\n",
    "res = np.flip(ini_array)\n",
    "\n",
    "print(\"final array\", str(res))\n"
   ]
  },
  {
   "cell_type": "raw",
   "id": "d5e9f480-d4e7-4e86-b9ff-49dc05b3e454",
   "metadata": {},
   "source": [
    "2.Using the list slicing method to reverse a Numpy array\n",
    "This method makes a copy of the list instead of sorting it in order. To accommodate all of the current components, making a clone requires additional room. More RAM is used up in this way. Here, we’re utilizing Python’s slicing method to invert our list."
   ]
  },
  {
   "cell_type": "code",
   "execution_count": 2,
   "id": "0d69ade6-c358-4dfb-8422-197fe063dcd1",
   "metadata": {},
   "outputs": [
    {
     "name": "stdout",
     "output_type": "stream",
     "text": [
      "initial array [1 2 3 6 4 5]\n",
      "type of ini_array <class 'numpy.ndarray'>\n",
      "final array [5 4 6 3 2 1]\n"
     ]
    }
   ],
   "source": [
    "import numpy as np\n",
    "\n",
    "ini_array = np.array([1, 2, 3, 6, 4, 5])\n",
    "\n",
    "print(\"initial array\", str(ini_array))\n",
    "\n",
    "print(\"type of ini_array\", type(ini_array))\n",
    "\n",
    "res = ini_array[::-1]\n",
    "\n",
    "print(\"final array\", str(res))\n"
   ]
  },
  {
   "cell_type": "raw",
   "id": "42923f74-50d2-410a-8d3c-f791d16ced5d",
   "metadata": {},
   "source": [
    "3.Using flipud function to Reverse a Numpy array \n",
    "The numpy.flipud() function flips the array(entries in each column) in up-down direction, shape preserved."
   ]
  },
  {
   "cell_type": "code",
   "execution_count": 4,
   "id": "6ac18662-196f-4a25-a9b4-dbc9d6a0cff3",
   "metadata": {},
   "outputs": [
    {
     "name": "stdout",
     "output_type": "stream",
     "text": [
      "initial array [1 2 3 6 4 5]\n",
      "type of ini_array <class 'numpy.ndarray'>\n",
      "final array [5 4 6 3 2 1]\n"
     ]
    }
   ],
   "source": [
    "import numpy as np\n",
    "\n",
    "ini_array = np.array([1, 2, 3, 6, 4, 5])\n",
    "\n",
    "print(\"initial array\", str(ini_array))\n",
    "\n",
    "print(\"type of ini_array\", type(ini_array))\n",
    "\n",
    "res = np.flipud(ini_array)\n",
    "\n",
    "print(\"final array\", str(res))\n"
   ]
  },
  {
   "cell_type": "raw",
   "id": "d70a0c16-859a-4ec3-a8d0-f7f8faefea95",
   "metadata": {},
   "source": [
    "Q4. How can you determine the data type of elements in a NumPy array? Discuss the importance of data types\n",
    "in memory management and performance.\n",
    "Answer:-\n",
    "  We can check the datatype of Numpy array by using dtype. Then it returns the data type all the elements in the array. In the given example below we import NumPy library and craete an array using “array()” method with integer value. Then we store the data type of the array in a variable named “data_type” using the ‘dtype’ attribute, and after then we can finally, we print the data type."
   ]
  },
  {
   "cell_type": "code",
   "execution_count": 5,
   "id": "dfe2f400-cfed-474d-991d-a8b167bcb089",
   "metadata": {},
   "outputs": [
    {
     "name": "stdout",
     "output_type": "stream",
     "text": [
      "Data type: int32\n"
     ]
    }
   ],
   "source": [
    "import numpy as np\n",
    "\n",
    "arr = np.array([1, 2, 3, 4, 5])\n",
    "\n",
    "data_type = arr.dtype\n",
    "print(\"Data type:\", data_type)\n"
   ]
  },
  {
   "cell_type": "raw",
   "id": "9c6bf32e-a138-4baf-b06a-7df4ffb80d65",
   "metadata": {},
   "source": [
    "Q5.Define ndarrays in NumPy and explain their key features. How do they differ from standard Python lists?\n",
    "Answer:-\n",
    " An ndarray is a (usually fixed-size) multidimensional container of items of the same type and size. The number of dimensions and items in an array is defined by its shape, which is a tuple of N non-negative integers that specify the sizes of each dimension. The type of items in the array is specified by a separate data-type object (dtype), one of which is associated with each ndarray.\n",
    "\n",
    "As with other container objects in Python, the contents of an ndarray can be accessed and modified by indexing or slicing the array (using, for example, N integers), and via the methods and attributes of the ndarray.\n",
    "\n",
    "Different ndarrays can share the same data, so that changes made in one ndarray may be visible in another. That is, an ndarray can be a “view” to another ndarray, and the data it is referring to is taken care of by the “base” ndarray. ndarrays can also be views to memory owned by Python strings or objects implementing the memoryview or array interfaces."
   ]
  },
  {
   "cell_type": "code",
   "execution_count": 7,
   "id": "b89c239a-2610-461d-9625-944d8554a036",
   "metadata": {},
   "outputs": [
    {
     "data": {
      "text/plain": [
       "dtype('int32')"
      ]
     },
     "execution_count": 7,
     "metadata": {},
     "output_type": "execute_result"
    }
   ],
   "source": [
    "import numpy as np\n",
    "x = np.array([[1, 2, 3], [4, 5, 6]], np.int32)\n",
    "type(x)\n",
    "x.dtype"
   ]
  },
  {
   "cell_type": "code",
   "execution_count": 8,
   "id": "4cb02daf-3ef4-4850-8e7e-5b02e826e037",
   "metadata": {},
   "outputs": [
    {
     "data": {
      "text/plain": [
       "(2, 3)"
      ]
     },
     "execution_count": 8,
     "metadata": {},
     "output_type": "execute_result"
    }
   ],
   "source": [
    "x.shape"
   ]
  },
  {
   "cell_type": "code",
   "execution_count": 11,
   "id": "a61f9f6a-e299-4f51-8842-d530f99b847f",
   "metadata": {},
   "outputs": [
    {
     "data": {
      "text/plain": [
       "array([[1, 9, 3],\n",
       "       [4, 5, 6]])"
      ]
     },
     "execution_count": 11,
     "metadata": {},
     "output_type": "execute_result"
    }
   ],
   "source": [
    "y = x[:,1]\n",
    "y\n",
    "y[0] = 9 \n",
    "y\n",
    "x"
   ]
  },
  {
   "cell_type": "raw",
   "id": "d3a9e93d-e567-4957-9133-36c17aec1f38",
   "metadata": {},
   "source": [
    "Q6. Analyze the performance benefits of NumPy arrays over Python lists for large-scale numerical operations.\n",
    "Answer:-\n",
    "  NumPy arrays provide a significant speed advantage over traditional lists. This is because NumPy is built in C and uses optimized, pre-compiled code for numerical operations. This allows for vectorization, which means operations are applied to all elements in an array without the need for explicit loops in Python.\n",
    "\n",
    "The reason is that numpy offloads the heavy lifting to highly optimized C and Fortran libraries, which can process data much faster than Python's loop constructs. By avoiding explicit loops, you minimize the number of interpreted instructions and take advantage of modern CPUs' parallel processing capabilities.\n",
    "\n",
    "As the array size increase, Numpy gets around 30 times faster than Python List. Because the Numpy array is densely packed in memory due to its homogeneous type, it also frees the memory faster."
   ]
  },
  {
   "cell_type": "raw",
   "id": "2d243c32-54bb-4787-8bdb-a0ac0329ec6a",
   "metadata": {},
   "source": [
    "Q7. Compare vstack() and hstack() functions in NumPy. Provide examples demonstrating their usage and output.\n",
    "Answer:-\n",
    "             hstack()                                           vstack()\n",
    "1.  Syntax :  numpy.hstack(tup)                       Syntax  :  numpy.vstack(tup)\n",
    "\n",
    "2.  tup :Tuple containing arrays to be stacked.       tup :Tuple containing arrays to be stacked. \n",
    "    The arrays must have the same shape along         The arrays must have the same shape along\n",
    "    all but the second axis.                          all but the first axis.\n",
    "\n",
    "3.  Return :The stacked array of the input arrays.    Return :The stacked array of the input arrays."
   ]
  },
  {
   "cell_type": "code",
   "execution_count": 15,
   "id": "4102baae-0562-4344-8c59-760af543a77c",
   "metadata": {},
   "outputs": [
    {
     "name": "stdout",
     "output_type": "stream",
     "text": [
      "1st Input array : \n",
      " [1 2 3]\n",
      "2nd Input array : \n",
      " [4 5 6]\n",
      "Output horizontally stacked array:\n",
      "  [1 2 3 4 5 6]\n"
     ]
    }
   ],
   "source": [
    "#example of hstack()\n",
    "import numpy as np\n",
    "\n",
    "in_arr1 = np.array([ 1, 2, 3] ) \n",
    "print (\"1st Input array : \\n\", in_arr1) \n",
    "\n",
    "in_arr2 = np.array([ 4, 5, 6] ) \n",
    "print (\"2nd Input array : \\n\", in_arr2) \n",
    "\n",
    "out_arr = np.hstack((in_arr1, in_arr2)) \n",
    "print (\"Output horizontally stacked array:\\n \", out_arr) \n"
   ]
  },
  {
   "cell_type": "code",
   "execution_count": 16,
   "id": "204212c8-d243-4279-9c0f-17225b8983b5",
   "metadata": {},
   "outputs": [
    {
     "name": "stdout",
     "output_type": "stream",
     "text": [
      "1st Input array : \n",
      " [1 2 3]\n",
      "2nd Input array : \n",
      " [4 5 6]\n",
      "Output vertically stacked array:\n",
      "  [[1 2 3]\n",
      " [4 5 6]]\n"
     ]
    }
   ],
   "source": [
    "#example of vstack()\n",
    "import numpy as np\n",
    "\n",
    "in_arr1 = np.array([ 1, 2, 3] ) \n",
    "print (\"1st Input array : \\n\", in_arr1) \n",
    "\n",
    "in_arr2 = np.array([ 4, 5, 6] ) \n",
    "print (\"2nd Input array : \\n\", in_arr2) \n",
    "\n",
    "out_arr = np.vstack((in_arr1, in_arr2)) \n",
    "print (\"Output vertically stacked array:\\n \", out_arr) \n"
   ]
  },
  {
   "cell_type": "raw",
   "id": "6f7c6057-0814-466d-ab6b-6d368712dbbc",
   "metadata": {},
   "source": [
    "Q8.Explain the differences between fliplr() and flipud() methods in NumPy, including their effects on various array dimensions.\n",
    "Answer:-\n",
    "        fliplr()                                           flipud()\n",
    "1.  Flip array(entries in each column) in      The numpy.flipud() function flips the \n",
    "    left-right direction, shape preserved      array(entries in each column) in up-down\n",
    "                                               direction, shape preserved.  \n",
    "\n",
    "2.  numpy.fliplr(array)                        numpy.flipud(array)\n",
    "\n",
    "3.  array : [array_like]Input array,           array : [array_like]Input array,\n",
    "    we want to flip                            we want to flip.\n",
    "\n",
    "4.  Flipped array in left-right direction.     Flipped array in up-down direction."
   ]
  },
  {
   "cell_type": "code",
   "execution_count": 17,
   "id": "9fd9e866-7d8e-451c-a7b9-94c95349ea30",
   "metadata": {},
   "outputs": [
    {
     "name": "stdout",
     "output_type": "stream",
     "text": [
      "Original array : \n",
      " [[[0 1]\n",
      "  [2 3]]\n",
      "\n",
      " [[4 5]\n",
      "  [6 7]]]\n",
      "\n",
      "Flipped array left-right : \n",
      " [[[2 3]\n",
      "  [0 1]]\n",
      "\n",
      " [[6 7]\n",
      "  [4 5]]]\n"
     ]
    }
   ],
   "source": [
    "#example of fliplr()\n",
    "import numpy as np\n",
    "\n",
    "array = np.arange(8).reshape((2,2,2)) \n",
    "print(\"Original array : \\n\", array) \n",
    "\n",
    "print(\"\\nFlipped array left-right : \\n\", np.fliplr(array)) \n"
   ]
  },
  {
   "cell_type": "code",
   "execution_count": 18,
   "id": "97da12cd-a9eb-493c-a955-2deb1274a59e",
   "metadata": {},
   "outputs": [
    {
     "name": "stdout",
     "output_type": "stream",
     "text": [
      "Original array : \n",
      " [[[0 1]\n",
      "  [2 3]]\n",
      "\n",
      " [[4 5]\n",
      "  [6 7]]]\n",
      "\n",
      "Flipped array : \n",
      " [[[4 5]\n",
      "  [6 7]]\n",
      "\n",
      " [[0 1]\n",
      "  [2 3]]]\n"
     ]
    }
   ],
   "source": [
    "#example of flipud()\n",
    "import numpy as np \n",
    "\n",
    "array = np.arange(8).reshape((2,2,2)) \n",
    "print(\"Original array : \\n\", array) \n",
    "\n",
    "print(\"\\nFlipped array : \\n\", np.flipud(array)) \n"
   ]
  },
  {
   "cell_type": "raw",
   "id": "c946f51c-3267-4caf-a3c4-34e775af6451",
   "metadata": {},
   "source": [
    "Q9.Discuss the functionality of the array_split() method in NumPy. How does it handle uneven splits?\n",
    "Answer:-\n",
    "  Array splitting in NumPy is like a slice of cake. Think of each element in a NumPy array as a slice of cake. Splitting divides this “cake” into smaller “slices” (sub-arrays), often along specific dimensions or based on certain criteria. We can split horizontally, vertically, or even diagonally depending on our needs.\n",
    "\n",
    "The split(), hsplit(), vsplit(), and dsplit() functions are important tools for dividing arrays along various axes and dimensions. These functions are particularly useful when working with one-dimensional arrays, matrices, or high-dimensional datasets. NumPy’s array-splitting capabilities are crucial for enhancing the efficiency and flexibility of data processing workflows.\n",
    "\n",
    "Key concepts and terminology\n",
    "Here are some important terms to understand when splitting arrays:\n",
    "\n",
    "Axis: The dimension along which the array is split (e.g., rows, columns, depth).\n",
    "Sub-arrays: The smaller arrays resulting from the split.\n",
    "Splitting methods: Different functions in NumPy for splitting arrays (e.g., np.split(), np.vsplit(), np.hsplit(), etc.).\n",
    "Equal vs. Unequal splits: Whether the sub-arrays have the same size or not.\n",
    "\n",
    "Example:-"
   ]
  },
  {
   "cell_type": "code",
   "execution_count": 19,
   "id": "82c660df-5b5e-4e09-bf0d-caa592d2e21c",
   "metadata": {},
   "outputs": [
    {
     "name": "stdout",
     "output_type": "stream",
     "text": [
      "[array([1, 2]), array([3, 4]), array([5])]\n"
     ]
    }
   ],
   "source": [
    "import numpy as np\n",
    "Arr = np.array([1, 2, 3, 4, 5, 6])\n",
    "array = np.array_split(arr, 3)\n",
    "print(array)\n"
   ]
  },
  {
   "cell_type": "raw",
   "id": "dda5dc5f-672d-4fc1-8124-03029f6e0edf",
   "metadata": {},
   "source": [
    "Q10. Explain the concepts of vectorization and broadcasting in NumPy. How do they contribute to efficient array operations?\n",
    "Answer:-\n",
    " 1.Broadcasting\n",
    "   Broadcasting provides a means of vectorizing array operations, therefore eliminating the need for Python loops. This is because NumPy is implemented in C Programming, which is a very efficient language.\n",
    "\n",
    "It does this without making needless copies of data which leads to efficient algorithm implementations. But broadcasting over multiple arrays in NumPy extension can raise cases where broadcasting is a bad idea because it leads to inefficient use of memory that slows down the computation.\n",
    "\n",
    "The resulting array returned after broadcasting will have the same number of dimensions as the array with the greatest number of dimensions.\n",
    "Example:-"
   ]
  },
  {
   "cell_type": "code",
   "execution_count": 20,
   "id": "8d55f4d5-81c3-4cbe-b1de-c1fdd9e14c34",
   "metadata": {},
   "outputs": [
    {
     "name": "stdout",
     "output_type": "stream",
     "text": [
      "[450 350   0  30]\n"
     ]
    }
   ],
   "source": [
    "import numpy as np \n",
    "\n",
    "a = np.array([5, 7, 3, 1]) \n",
    "b = np.array([90, 50, 0, 30]) \n",
    "\n",
    "c = a * b \n",
    "print(c) \n"
   ]
  },
  {
   "cell_type": "raw",
   "id": "369ade3e-486a-46f8-bcc5-5127a20d060f",
   "metadata": {},
   "source": [
    "2.Vectorization\n",
    "  Numpy arrays are homogeneous in nature means it is an array that contains data of a single type only. Python’s lists and tuples are unrestricted in the type of data they contain. The concept of vectorized operations on NumPy allows the use of more optimal and pre-compiled functions and mathematical operations on NumPy array objects and data sequences. The Output and Operations will speed up when compared to simple non-vectorized operations.\n",
    "Example:-"
   ]
  },
  {
   "cell_type": "code",
   "execution_count": 43,
   "id": "9c5246ab-8311-4c16-b1c4-45411e539bca",
   "metadata": {},
   "outputs": [
    {
     "name": "stdout",
     "output_type": "stream",
     "text": [
      "112492500\n",
      "Time taken by vectorized sum : 23.7 μs ± 3.54 μs per loop (mean ± std. dev. of 7 runs, 10,000 loops each)\n",
      "\n",
      "112492500\n",
      "Time taken by iterative sum : 41.2 ns ± 11.9 ns per loop (mean ± std. dev. of 7 runs, 10,000,000 loops each)\n"
     ]
    }
   ],
   "source": [
    "import numpy as np\n",
    "import timeit\n",
    "\n",
    "print(np.sum(np.arange(15000)))\n",
    "\n",
    "print(\"Time taken by vectorized sum : \", end = \"\")\n",
    "%timeit np.sum(np.arange(15000))\n",
    "\n",
    "total = 0\n",
    "for item in range(0, 15000):\n",
    "\ttotal += item\n",
    "a = total\n",
    "print(\"\\n\" + str(a))\n",
    "\n",
    "print(\"Time taken by iterative sum : \", end = \"\")\n",
    "%timeit a\n"
   ]
  },
  {
   "cell_type": "code",
   "execution_count": null,
   "id": "99d8650a-e88f-418c-9f09-448f740ccb4d",
   "metadata": {},
   "outputs": [],
   "source": []
  },
  {
   "cell_type": "markdown",
   "id": "807d094e-89a3-4878-83db-82b73ccfda54",
   "metadata": {},
   "source": [
    "Practical Questions"
   ]
  },
  {
   "cell_type": "code",
   "execution_count": null,
   "id": "691b723a-d451-4c44-a90c-52e85272692f",
   "metadata": {},
   "outputs": [],
   "source": []
  },
  {
   "cell_type": "raw",
   "id": "8db344a9-6098-426e-8bfe-feadb61442f9",
   "metadata": {},
   "source": [
    "Q1.Create a 3x3 NumPy array with random integers between 1 and 100. Then, interchange its rows and columns.\n",
    "Answer:-"
   ]
  },
  {
   "cell_type": "code",
   "execution_count": 27,
   "id": "e1f7a07d-9fc1-43ac-87dd-51b5041259f1",
   "metadata": {},
   "outputs": [
    {
     "name": "stdout",
     "output_type": "stream",
     "text": [
      "[[13 26 33]\n",
      " [47 59 62]\n",
      " [79 87 98]]\n"
     ]
    }
   ],
   "source": [
    "import numpy as np \n",
    " \n",
    "matrix = np.array([[13, 26, 33], \n",
    "                   [47, 59, 62], \n",
    "                   [79, 87, 98]]) \n",
    " \n",
    "print(matrix) "
   ]
  },
  {
   "cell_type": "code",
   "execution_count": 28,
   "id": "27b3d8db-4ec1-48a2-ac11-3ed417015e79",
   "metadata": {},
   "outputs": [
    {
     "data": {
      "text/plain": [
       "array([[13, 47, 79],\n",
       "       [26, 59, 87],\n",
       "       [33, 62, 98]])"
      ]
     },
     "execution_count": 28,
     "metadata": {},
     "output_type": "execute_result"
    }
   ],
   "source": [
    "matrix.T"
   ]
  },
  {
   "cell_type": "raw",
   "id": "21b92393-1c3d-44cc-8052-e4063e06ba16",
   "metadata": {},
   "source": [
    "Q2.Generate a 1D NumPy array with 10 elements. Reshape it into a 2x5 array, then into a 5x2 array.\n",
    "Answer:-"
   ]
  },
  {
   "cell_type": "code",
   "execution_count": 29,
   "id": "7c3e49bb-9182-4689-9689-e34e88d77d55",
   "metadata": {},
   "outputs": [
    {
     "name": "stdout",
     "output_type": "stream",
     "text": [
      "1D Array:\n",
      "[0 1 2 3 4 5 6 7 8 9]\n",
      "\n",
      "2x5 Array:\n",
      "[[0 1 2 3 4]\n",
      " [5 6 7 8 9]]\n",
      "\n",
      "5x2 Array:\n",
      "[[0 1]\n",
      " [2 3]\n",
      " [4 5]\n",
      " [6 7]\n",
      " [8 9]]\n"
     ]
    }
   ],
   "source": [
    "import numpy as np\n",
    "\n",
    "array_1d = np.arange(10) \n",
    "\n",
    "array_2x5 = array_1d.reshape(2, 5)\n",
    "\n",
    "array_5x2 = array_1d.reshape(5, 2)\n",
    "\n",
    "print(\"1D Array:\")\n",
    "print(array_1d)\n",
    "print(\"\\n2x5 Array:\")\n",
    "print(array_2x5)\n",
    "print(\"\\n5x2 Array:\")\n",
    "print(array_5x2)\n"
   ]
  },
  {
   "cell_type": "raw",
   "id": "ae9f6196-4bed-436f-bc49-f514881307f1",
   "metadata": {},
   "source": [
    "Q3.Create a 4x4 NumPy array with random float values. Add a border of zeros around it, resulting in a 6x6 array\n",
    "Answer:-\n"
   ]
  },
  {
   "cell_type": "code",
   "execution_count": 30,
   "id": "d4d5f6b5-859d-40e5-a2e9-ae9a2577e3b7",
   "metadata": {},
   "outputs": [
    {
     "name": "stdout",
     "output_type": "stream",
     "text": [
      "4x4 Array with Random Floats:\n",
      "[[0.18764573 0.24174109 0.01717577 0.37090574]\n",
      " [0.73081837 0.51449918 0.57980024 0.24484041]\n",
      " [0.64240662 0.5779607  0.50352623 0.22207238]\n",
      " [0.99045969 0.02488718 0.83563179 0.28543031]]\n",
      "\n",
      "6x6 Array with Border of Zeros:\n",
      "[[0.         0.         0.         0.         0.         0.        ]\n",
      " [0.         0.18764573 0.24174109 0.01717577 0.37090574 0.        ]\n",
      " [0.         0.73081837 0.51449918 0.57980024 0.24484041 0.        ]\n",
      " [0.         0.64240662 0.5779607  0.50352623 0.22207238 0.        ]\n",
      " [0.         0.99045969 0.02488718 0.83563179 0.28543031 0.        ]\n",
      " [0.         0.         0.         0.         0.         0.        ]]\n"
     ]
    }
   ],
   "source": [
    "import numpy as np\n",
    "\n",
    "array_4x4 = np.random.rand(4, 4)\n",
    "\n",
    "array_with_border = np.pad(array_4x4, pad_width=1, mode='constant', constant_values=0)\n",
    "\n",
    "print(\"4x4 Array with Random Floats:\")\n",
    "print(array_4x4)\n",
    "print(\"\\n6x6 Array with Border of Zeros:\")\n",
    "print(array_with_border)\n"
   ]
  },
  {
   "cell_type": "raw",
   "id": "482b60b6-3050-4d3b-8439-99eab7a662a9",
   "metadata": {},
   "source": [
    "Q4.Using NumPy, create an array of integers from 10 to 60 with a step of 5.\n",
    "Answer:-"
   ]
  },
  {
   "cell_type": "code",
   "execution_count": 31,
   "id": "7590c6ee-bf50-4c40-98f9-a8a0242313db",
   "metadata": {},
   "outputs": [
    {
     "name": "stdout",
     "output_type": "stream",
     "text": [
      "Array of Integers from 10 to 60 with a Step of 5:\n",
      "[10 15 20 25 30 35 40 45 50 55 60]\n"
     ]
    }
   ],
   "source": [
    "import numpy as np\n",
    "\n",
    "array_integers = np.arange(10, 61, 5)\n",
    "\n",
    "print(\"Array of Integers from 10 to 60 with a Step of 5:\")\n",
    "print(array_integers)\n"
   ]
  },
  {
   "cell_type": "raw",
   "id": "4c80fdcb-23c5-4f7a-86d3-45620bc55d60",
   "metadata": {},
   "source": [
    "Q5. Create a NumPy array of strings ['python', 'numpy', 'pandas']. Apply different case transformations (uppercase, lowercase, title case, etc.) to each element.\n",
    "Answer:-"
   ]
  },
  {
   "cell_type": "code",
   "execution_count": 32,
   "id": "385ad8a3-eb20-4d38-b6b4-aa61a3b40760",
   "metadata": {},
   "outputs": [
    {
     "name": "stdout",
     "output_type": "stream",
     "text": [
      "Original Array:\n",
      "['python' 'numpy' 'pandas']\n",
      "\n",
      "Uppercase:\n",
      "['PYTHON' 'NUMPY' 'PANDAS']\n",
      "\n",
      "Lowercase:\n",
      "['python' 'numpy' 'pandas']\n",
      "\n",
      "Title Case:\n",
      "['Python' 'Numpy' 'Pandas']\n",
      "\n",
      "Capitalized:\n",
      "['Python' 'Numpy' 'Pandas']\n"
     ]
    }
   ],
   "source": [
    "import numpy as np\n",
    "\n",
    "array_strings = np.array(['python', 'numpy', 'pandas'])\n",
    "\n",
    "uppercase = np.char.upper(array_strings)\n",
    "lowercase = np.char.lower(array_strings)\n",
    "titlecase = np.char.title(array_strings)\n",
    "capitalize = np.char.capitalize(array_strings)\n",
    "\n",
    "print(\"Original Array:\")\n",
    "print(array_strings)\n",
    "print(\"\\nUppercase:\")\n",
    "print(uppercase)\n",
    "print(\"\\nLowercase:\")\n",
    "print(lowercase)\n",
    "print(\"\\nTitle Case:\")\n",
    "print(titlecase)\n",
    "print(\"\\nCapitalized:\")\n",
    "print(capitalize)\n"
   ]
  },
  {
   "cell_type": "raw",
   "id": "70699e19-d93a-481a-a9e9-e4a2e4d5de4a",
   "metadata": {},
   "source": [
    "Q6. Generate a NumPy array of words. Insert a space between each character of every word in the array.\n",
    "Answer:-"
   ]
  },
  {
   "cell_type": "code",
   "execution_count": 33,
   "id": "fb95c4f2-0b73-4edd-9e58-55218fcfaf4d",
   "metadata": {},
   "outputs": [
    {
     "name": "stdout",
     "output_type": "stream",
     "text": [
      "Original Array of Words:\n",
      "['hello' 'world' 'numpy' 'python']\n",
      "\n",
      "Words with Spaces Between Characters:\n",
      "['h e l l o' 'w o r l d' 'n u m p y' 'p y t h o n']\n"
     ]
    }
   ],
   "source": [
    "import numpy as np\n",
    "\n",
    "array_words = np.array(['hello', 'world', 'numpy', 'python'])\n",
    "\n",
    "spaced_words = np.char.join(' ', array_words)\n",
    "\n",
    "print(\"Original Array of Words:\")\n",
    "print(array_words)\n",
    "print(\"\\nWords with Spaces Between Characters:\")\n",
    "print(spaced_words)\n"
   ]
  },
  {
   "cell_type": "raw",
   "id": "29524965-8578-4cbe-a5b1-40541707abc5",
   "metadata": {},
   "source": [
    "Q7. Create two 2D NumPy arrays and perform element-wise addition, subtraction, multiplication, and division.\n",
    "Answer:-"
   ]
  },
  {
   "cell_type": "code",
   "execution_count": 34,
   "id": "dc124be7-c65a-4950-bee7-20e3fac981e0",
   "metadata": {},
   "outputs": [
    {
     "name": "stdout",
     "output_type": "stream",
     "text": [
      "Array 1:\n",
      "[[1 2 3]\n",
      " [4 5 6]]\n",
      "\n",
      "Array 2:\n",
      "[[ 7  8  9]\n",
      " [10 11 12]]\n",
      "\n",
      "Element-wise Addition:\n",
      "[[ 8 10 12]\n",
      " [14 16 18]]\n",
      "\n",
      "Element-wise Subtraction:\n",
      "[[-6 -6 -6]\n",
      " [-6 -6 -6]]\n",
      "\n",
      "Element-wise Multiplication:\n",
      "[[ 7 16 27]\n",
      " [40 55 72]]\n",
      "\n",
      "Element-wise Division:\n",
      "[[0.14285714 0.25       0.33333333]\n",
      " [0.4        0.45454545 0.5       ]]\n"
     ]
    }
   ],
   "source": [
    "import numpy as np\n",
    "\n",
    "array1 = np.array([[1, 2, 3], \n",
    "                   [4, 5, 6]])\n",
    "\n",
    "array2 = np.array([[7, 8, 9], \n",
    "                   [10, 11, 12]])\n",
    "\n",
    "addition = array1 + array2\n",
    "subtraction = array1 - array2\n",
    "multiplication = array1 * array2\n",
    "division = array1 / array2\n",
    "\n",
    "print(\"Array 1:\")\n",
    "print(array1)\n",
    "print(\"\\nArray 2:\")\n",
    "print(array2)\n",
    "print(\"\\nElement-wise Addition:\")\n",
    "print(addition)\n",
    "print(\"\\nElement-wise Subtraction:\")\n",
    "print(subtraction)\n",
    "print(\"\\nElement-wise Multiplication:\")\n",
    "print(multiplication)\n",
    "print(\"\\nElement-wise Division:\")\n",
    "print(division)\n"
   ]
  },
  {
   "cell_type": "raw",
   "id": "341c4722-2efc-4c07-a066-6f64f7fc281b",
   "metadata": {},
   "source": [
    "Q8. Use NumPy to create a 5x5 identity matrix, then extract its diagonal elements\n",
    "Answer:-"
   ]
  },
  {
   "cell_type": "code",
   "execution_count": 35,
   "id": "52ab5fe4-63a0-414b-b4fd-bf873dc7727f",
   "metadata": {},
   "outputs": [
    {
     "name": "stdout",
     "output_type": "stream",
     "text": [
      "5x5 Identity Matrix:\n",
      "[[1. 0. 0. 0. 0.]\n",
      " [0. 1. 0. 0. 0.]\n",
      " [0. 0. 1. 0. 0.]\n",
      " [0. 0. 0. 1. 0.]\n",
      " [0. 0. 0. 0. 1.]]\n",
      "\n",
      "Diagonal Elements:\n",
      "[1. 1. 1. 1. 1.]\n"
     ]
    }
   ],
   "source": [
    "import numpy as np\n",
    "\n",
    "identity_matrix = np.eye(5)\n",
    "\n",
    "diagonal_elements = np.diag(identity_matrix)\n",
    "\n",
    "print(\"5x5 Identity Matrix:\")\n",
    "print(identity_matrix)\n",
    "print(\"\\nDiagonal Elements:\")\n",
    "print(diagonal_elements)\n"
   ]
  },
  {
   "cell_type": "raw",
   "id": "456818d4-e718-4ada-94c8-eabd2cf15571",
   "metadata": {},
   "source": [
    "Q9. Generate a NumPy array of 100 random integers between 0 and 1000. Find and display all prime numbers in this array.\n",
    "Answer:-"
   ]
  },
  {
   "cell_type": "code",
   "execution_count": 36,
   "id": "737c2304-e87f-4a14-8989-bb94982532be",
   "metadata": {},
   "outputs": [
    {
     "name": "stdout",
     "output_type": "stream",
     "text": [
      "Random Integers:\n",
      "[144 305 856   6  15 992 351 762 582 186 409 329 561 714 305 420  50 205\n",
      " 367 691 109 628 888  62 105 527 108 411 910 764 246 377 547 977 802  43\n",
      "  25 843 611 704 175  62 937 542 299 736  91 208 305 216 915 694 127 962\n",
      " 982 138   8 753  85 767 221 835 916 236 855  10 782 204 365 312  78 691\n",
      " 176 668 908 818  10 707 456 163 368 828 505 428 968  93 135 220 514 213\n",
      " 801 816 559 378 240 181 845   8 441 446]\n",
      "\n",
      "Prime Numbers in the Array:\n",
      "[409 367 691 109 547 977  43 937 127 691 163 181]\n"
     ]
    }
   ],
   "source": [
    "import numpy as np\n",
    "\n",
    "random_integers = np.random.randint(0, 1001, size=100)\n",
    "\n",
    "def is_prime(num):\n",
    "    if num <= 1:\n",
    "        return False\n",
    "    for i in range(2, int(num**0.5) + 1):\n",
    "        if num % i == 0:\n",
    "            return False\n",
    "    return True\n",
    "\n",
    "prime_numbers = np.array([num for num in random_integers if is_prime(num)])\n",
    "\n",
    "print(\"Random Integers:\")\n",
    "print(random_integers)\n",
    "print(\"\\nPrime Numbers in the Array:\")\n",
    "print(prime_numbers)\n"
   ]
  },
  {
   "cell_type": "raw",
   "id": "9251c14c-22ef-4a38-adb6-5aad3721e4a1",
   "metadata": {},
   "source": [
    "Q10. Create a NumPy array representing daily temperatures for a month. Calculate and display the weekly averages.\n",
    "Answer:-"
   ]
  },
  {
   "cell_type": "code",
   "execution_count": null,
   "id": "c5aa25c7-d55e-42c6-85fb-c242dbf3bd60",
   "metadata": {},
   "outputs": [],
   "source": [
    "import numpy as np\n",
    "\n",
    "daily_temperatures = np.random.uniform(15, 30, size=30)\n",
    "\n",
    "weekly_temperatures = daily_temperatures.reshape(4, 7)\n",
    "\n",
    "weekly_averages = np.mean(weekly_temperatures, axis=1)\n",
    "\n",
    "print(\"Daily Temperatures for a Month:\")\n",
    "print(daily_temperatures)\n",
    "print(\"\\nWeekly Temperatures:\")\n",
    "print(weekly_temperatures)\n",
    "print(\"\\nWeekly Averages:\")\n",
    "print(weekly_averages)\n"
   ]
  }
 ],
 "metadata": {
  "kernelspec": {
   "display_name": "Python 3 (ipykernel)",
   "language": "python",
   "name": "python3"
  },
  "language_info": {
   "codemirror_mode": {
    "name": "ipython",
    "version": 3
   },
   "file_extension": ".py",
   "mimetype": "text/x-python",
   "name": "python",
   "nbconvert_exporter": "python",
   "pygments_lexer": "ipython3",
   "version": "3.12.4"
  }
 },
 "nbformat": 4,
 "nbformat_minor": 5
}
